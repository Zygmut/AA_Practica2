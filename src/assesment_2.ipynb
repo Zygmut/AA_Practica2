{
 "cells": [
  {
   "cell_type": "markdown",
   "metadata": {},
   "source": [
    "## Libraries\n"
   ]
  },
  {
   "cell_type": "code",
   "execution_count": 54,
   "metadata": {},
   "outputs": [],
   "source": [
    "import os\n",
    "from os import path, listdir\n",
    "from torchvision import transforms\n",
    "from tqdm import tqdm\n",
    "import torch\n",
    "import pandas as pd\n",
    "from skimage import transform\n",
    "from skimage.io import imread\n",
    "from sklearn.model_selection import train_test_split"
   ]
  },
  {
   "cell_type": "markdown",
   "metadata": {},
   "source": [
    "## Configuration\n"
   ]
  },
  {
   "cell_type": "code",
   "execution_count": 48,
   "metadata": {},
   "outputs": [],
   "source": [
    "CONFIG = {\n",
    "    \"DEVICE\": torch.device(\"cuda\" if torch.cuda.is_available() else \"cpu\"),\n",
    "    \"IMAGE_SIZE\": (64, 64),\n",
    "    \"DATA_PATH\": path.join(path.abspath(path.pardir), \"data\"),\n",
    "    \"SEED\": 27,\n",
    "    \"MODEL\": {\"EPOCH\": 1000, \"LEARNING_RATE\": 1e-6},\n",
    "}\n",
    "\n",
    "CONFIG[\"DATA\"] = {\n",
    "    \"TRANSFORMATION\": transforms.Compose(\n",
    "        [\n",
    "            transforms.Resize(CONFIG.get(\"IMAGE_SIZE\")),\n",
    "            transforms.ToTensor(),\n",
    "            transforms.Normalize(mean=[0.485, 0.456, 0.406], std=[0.229, 0.224, 0.225]),\n",
    "        ]\n",
    "    ),\n",
    "}"
   ]
  },
  {
   "cell_type": "markdown",
   "metadata": {},
   "source": [
    "## Data\n",
    "\n",
    "The dataset states the following:\n",
    "\n",
    "_All images with 1st letter as captial are cat images while images with small first letter are dog images._\n",
    "\n",
    "As this project will be evaluation the race and classification of the animals (breed and species), we'll transform the label dataset into one with increased semantic charge, replacing species to `cat` or `dog` and the breed to its respective name. This will be replaced with a label enconder when trainging the model and the only advantage of it is having some increased ease when exploring the results; leaving [magic numbers](<https://en.wikipedia.org/wiki/Magic_number_(programming)>) out of the paper\n",
    "\n",
    "Well be using a custom train/validation/test split of 70/15/15. As such, we'll be merging the label files and creating the splits from them\n"
   ]
  },
  {
   "cell_type": "code",
   "execution_count": 49,
   "metadata": {},
   "outputs": [
    {
     "data": {
      "text/html": [
       "<div>\n",
       "<style scoped>\n",
       "    .dataframe tbody tr th:only-of-type {\n",
       "        vertical-align: middle;\n",
       "    }\n",
       "\n",
       "    .dataframe tbody tr th {\n",
       "        vertical-align: top;\n",
       "    }\n",
       "\n",
       "    .dataframe thead th {\n",
       "        text-align: right;\n",
       "    }\n",
       "</style>\n",
       "<table border=\"1\" class=\"dataframe\">\n",
       "  <thead>\n",
       "    <tr style=\"text-align: right;\">\n",
       "      <th></th>\n",
       "      <th>image_name</th>\n",
       "      <th>species</th>\n",
       "      <th>breed</th>\n",
       "    </tr>\n",
       "  </thead>\n",
       "  <tbody>\n",
       "    <tr>\n",
       "      <th>0</th>\n",
       "      <td>Abyssinian_1.jpg</td>\n",
       "      <td>cat</td>\n",
       "      <td>abyssinian</td>\n",
       "    </tr>\n",
       "    <tr>\n",
       "      <th>1</th>\n",
       "      <td>Abyssinian_10.jpg</td>\n",
       "      <td>cat</td>\n",
       "      <td>abyssinian</td>\n",
       "    </tr>\n",
       "    <tr>\n",
       "      <th>2</th>\n",
       "      <td>Abyssinian_100.jpg</td>\n",
       "      <td>cat</td>\n",
       "      <td>abyssinian</td>\n",
       "    </tr>\n",
       "    <tr>\n",
       "      <th>3</th>\n",
       "      <td>Abyssinian_101.jpg</td>\n",
       "      <td>cat</td>\n",
       "      <td>abyssinian</td>\n",
       "    </tr>\n",
       "    <tr>\n",
       "      <th>4</th>\n",
       "      <td>Abyssinian_102.jpg</td>\n",
       "      <td>cat</td>\n",
       "      <td>abyssinian</td>\n",
       "    </tr>\n",
       "    <tr>\n",
       "      <th>...</th>\n",
       "      <td>...</td>\n",
       "      <td>...</td>\n",
       "      <td>...</td>\n",
       "    </tr>\n",
       "    <tr>\n",
       "      <th>7385</th>\n",
       "      <td>yorkshire_terrier_95.jpg</td>\n",
       "      <td>dog</td>\n",
       "      <td>yorkshire_terrier</td>\n",
       "    </tr>\n",
       "    <tr>\n",
       "      <th>7386</th>\n",
       "      <td>yorkshire_terrier_96.jpg</td>\n",
       "      <td>dog</td>\n",
       "      <td>yorkshire_terrier</td>\n",
       "    </tr>\n",
       "    <tr>\n",
       "      <th>7387</th>\n",
       "      <td>yorkshire_terrier_97.jpg</td>\n",
       "      <td>dog</td>\n",
       "      <td>yorkshire_terrier</td>\n",
       "    </tr>\n",
       "    <tr>\n",
       "      <th>7388</th>\n",
       "      <td>yorkshire_terrier_98.jpg</td>\n",
       "      <td>dog</td>\n",
       "      <td>yorkshire_terrier</td>\n",
       "    </tr>\n",
       "    <tr>\n",
       "      <th>7389</th>\n",
       "      <td>yorkshire_terrier_99.jpg</td>\n",
       "      <td>dog</td>\n",
       "      <td>yorkshire_terrier</td>\n",
       "    </tr>\n",
       "  </tbody>\n",
       "</table>\n",
       "<p>7390 rows × 3 columns</p>\n",
       "</div>"
      ],
      "text/plain": [
       "                    image_name species              breed\n",
       "0             Abyssinian_1.jpg     cat         abyssinian\n",
       "1            Abyssinian_10.jpg     cat         abyssinian\n",
       "2           Abyssinian_100.jpg     cat         abyssinian\n",
       "3           Abyssinian_101.jpg     cat         abyssinian\n",
       "4           Abyssinian_102.jpg     cat         abyssinian\n",
       "...                        ...     ...                ...\n",
       "7385  yorkshire_terrier_95.jpg     dog  yorkshire_terrier\n",
       "7386  yorkshire_terrier_96.jpg     dog  yorkshire_terrier\n",
       "7387  yorkshire_terrier_97.jpg     dog  yorkshire_terrier\n",
       "7388  yorkshire_terrier_98.jpg     dog  yorkshire_terrier\n",
       "7389  yorkshire_terrier_99.jpg     dog  yorkshire_terrier\n",
       "\n",
       "[7390 rows x 3 columns]"
      ]
     },
     "execution_count": 49,
     "metadata": {},
     "output_type": "execute_result"
    }
   ],
   "source": [
    "image_files = [\n",
    "    file\n",
    "    for file in listdir(path.join(CONFIG.get(\"DATA_PATH\"), \"images\"))\n",
    "    if file.endswith(\".jpg\")\n",
    "]\n",
    "\n",
    "labels = pd.DataFrame(\n",
    "    {\n",
    "        \"image_name\": image_files,\n",
    "        \"species\": [\"cat\" if file[0].isupper() else \"dog\" for file in image_files],\n",
    "        \"breed\": [\"_\".join(file.split(\"_\")[:-1]).lower() for file in image_files],\n",
    "    }\n",
    ")\n",
    "labels"
   ]
  },
  {
   "cell_type": "markdown",
   "metadata": {},
   "source": [
    "Finally, we can load all the images and apply the necessary transformations to have them standarized. In this case, as we want the base transformations to have some dlexibility on each tackled problem, we'll be downscaling the images:"
   ]
  },
  {
   "cell_type": "code",
   "execution_count": 55,
   "metadata": {},
   "outputs": [
    {
     "name": "stderr",
     "output_type": "stream",
     "text": [
      "Loading image data: 100%|██████████| 7390/7390 [01:15<00:00, 98.29 images/s] \n"
     ]
    }
   ],
   "source": [
    "images = [\n",
    "    transform.resize(\n",
    "        imread(path.join(CONFIG.get(\"DATA_PATH\"), \"images\", name)),\n",
    "        CONFIG.get(\"IMAGE_SIZE\"),\n",
    "    )\n",
    "    for name in tqdm(labels[\"image_name\"], desc=\"Loading image data\", unit=\" images\")\n",
    "]"
   ]
  },
  {
   "cell_type": "code",
   "execution_count": null,
   "metadata": {},
   "outputs": [],
   "source": []
  },
  {
   "cell_type": "code",
   "execution_count": null,
   "metadata": {},
   "outputs": [],
   "source": []
  }
 ],
 "metadata": {
  "kernelspec": {
   "display_name": "Python 3",
   "language": "python",
   "name": "python3"
  },
  "language_info": {
   "codemirror_mode": {
    "name": "ipython",
    "version": 3
   },
   "file_extension": ".py",
   "mimetype": "text/x-python",
   "name": "python",
   "nbconvert_exporter": "python",
   "pygments_lexer": "ipython3",
   "version": "3.10.13"
  }
 },
 "nbformat": 4,
 "nbformat_minor": 2
}
